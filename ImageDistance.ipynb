{
 "cells": [
  {
   "cell_type": "code",
   "execution_count": 25,
   "metadata": {
    "collapsed": true
   },
   "outputs": [],
   "source": [
    "import numpy as np\n",
    "from PIL import Image"
   ]
  },
  {
   "cell_type": "code",
   "execution_count": 26,
   "metadata": {},
   "outputs": [],
   "source": [
    "# pixel-wise subtraction\n",
    "def get_distance(img1, img2):\n",
    "    dist_vec = img1 - img2\n",
    "    dist = np.sum(dist_vec)\n",
    "    return dist\n",
    "\n",
    "# Loading from .npy files\n",
    "def load_data(name = 'data/airplane.npy'):\n",
    "    data = np.load(name)\n",
    "    print(type(data), data.shape)\n",
    "    return data\n",
    "\n",
    "# for given test-image find top 10 images from train images\n",
    "def get_top_ten(img, image_pool):\n",
    "    score = []\n",
    "    for i, img1 in enumerate(image_pool):\n",
    "        distance = get_distance(img, img1)\n",
    "        score.append((distance, i))\n",
    "    score.sort(reverse=True)\n",
    "    score = score[:10]\n",
    "    top_images = [image_pool[score[i][1]] for i in range(10)]\n",
    "    return top_images\n",
    "\n",
    "# visualize and save an image\n",
    "def visualize_save(img, name = 'default.png'):\n",
    "    img = Image.fromarray(img.reshape(28,28), 'L')\n",
    "    img.save(name)"
   ]
  },
  {
   "cell_type": "code",
   "execution_count": 27,
   "metadata": {},
   "outputs": [],
   "source": [
    "# Main\n",
    "def main():\n",
    "    data = load_data()\n",
    "    test = [data[0]]\n",
    "    train = data[1:]\n",
    "    visualize_save(test[0], \"Reference.png\")\n",
    "    for i, img in enumerate(test):\n",
    "        top_ten = get_top_ten(img, train)\n",
    "        print(\"Top 10 returned for \", i)\n",
    "        name = str(i)\n",
    "        for j, img1 in enumerate(top_ten):\n",
    "            visualize_save(img1, name + str(j) + \".png\")\n",
    "            "
   ]
  },
  {
   "cell_type": "code",
   "execution_count": 28,
   "metadata": {
    "collapsed": true
   },
   "outputs": [
    {
     "name": "stdout",
     "output_type": "stream",
     "text": [
      "<class 'numpy.ndarray'> (151623, 784)\n"
     ]
    },
    {
     "name": "stdout",
     "output_type": "stream",
     "text": [
      "Top 10 returned for  0\n"
     ]
    }
   ],
   "source": [
    "main()"
   ]
  },
  {
   "cell_type": "code",
   "execution_count": 29,
   "metadata": {},
   "outputs": [],
   "source": []
  }
 ],
 "metadata": {
  "kernelspec": {
   "display_name": "Python 2",
   "language": "python",
   "name": "python2"
  },
  "language_info": {
   "codemirror_mode": {
    "name": "ipython",
    "version": 2
   },
   "file_extension": ".py",
   "mimetype": "text/x-python",
   "name": "python",
   "nbconvert_exporter": "python",
   "pygments_lexer": "ipython2",
   "version": "2.7.6"
  }
 },
 "nbformat": 4,
 "nbformat_minor": 0
}
